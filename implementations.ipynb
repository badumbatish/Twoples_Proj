{
 "cells": [
  {
   "attachments": {},
   "cell_type": "markdown",
   "metadata": {},
   "source": [
    "Hi there, I'm Jasmine from Santiago Canyon College, CA!\n",
    "\n",
    "Let me informally walk you through the ideas of my paper: **Randomly Picking The Correct Number Somehow? An Introduction Into The Probabilistic Method**.\n",
    "\n",
    "More specifically, I will try to implement different ideas and algorithms through out this notebook!\n",
    "\n",
    "I hope you enjoy!\n"
   ]
  },
  {
   "attachments": {},
   "cell_type": "markdown",
   "metadata": {},
   "source": [
    "## The Naive Liar Game"
   ]
  },
  {
   "attachments": {},
   "cell_type": "markdown",
   "metadata": {},
   "source": [
    "Let's talk about the naive Liar Game when k = 0.\n",
    "\n",
    "### Winning Condition\n",
    "\n",
    "Given a range of $n$ numbers and $q$ queries, knowing that $k$ = 0, we want to compute if $n \\le 2^q$ so that Lucy can win the game"
   ]
  },
  {
   "cell_type": "code",
   "execution_count": 50,
   "metadata": {},
   "outputs": [
    {
     "name": "stdout",
     "output_type": "stream",
     "text": [
      "True\n",
      "False\n"
     ]
    }
   ],
   "source": [
    "\n",
    "# nv: naive\n",
    "# LG: Liar Game\n",
    "# Lcond: Lucy's win condition\n",
    "def nv_LG_Lcond(n: int, q: int) -> bool:\n",
    "    # print(f\"The value of n is: {n}\")\n",
    "    # print(f\"The value of 2^q is: {pow(2,q)}\")\n",
    "    return n <= pow(2,q)\n",
    "\n",
    "# Check if Lucy have a winning strategy in the Liar Game of n=4, q=2, k=0\n",
    "print(nv_LG_Lcond(4,2))\n",
    "\n",
    "# Check if Lucy have a winning strategy in the Liar Game of n=10, q=3, k=0\n",
    "print(nv_LG_Lcond(10,3))"
   ]
  },
  {
   "attachments": {},
   "cell_type": "markdown",
   "metadata": {},
   "source": [
    "### Winning Strategy"
   ]
  },
  {
   "attachments": {},
   "cell_type": "markdown",
   "metadata": {},
   "source": [
    "In the same theorem that provides us with a way to deduce the win condition for the naive Liar Game, its proof also gives us the hint to achieve a win for Lucy.\n",
    "\n",
    "Let's code up the algorithm for this!\n",
    "\n",
    "Let *A* be the first half of the remaining set.\n",
    "\n",
    "Let *B* be the second half of the remaining set.\n",
    "\n",
    "Pseudo-algorithm\n",
    "1. Check the winning condition for Lucy\n",
    "2. If Lucy can apply the strategy, continue\n",
    "1. Query the set *A*\n",
    "2. If Jasmine answers Yes, take set *A* to be the remaining set\n",
    "3. If Jasmine answers No, take set *B* to be the remaining set\n",
    "4. Repeat from step 2 until the cardinality of the remaining set is 1\n"
   ]
  },
  {
   "cell_type": "code",
   "execution_count": 56,
   "metadata": {},
   "outputs": [
    {
     "name": "stdout",
     "output_type": "stream",
     "text": [
      "Is x in the set from 1 to 2 (y/n)\n",
      "Jasmine answers False\n",
      "Is x in the set from 3 to 3 (y/n)\n",
      "Jasmine answers True\n",
      "Answer is 3\n"
     ]
    }
   ],
   "source": [
    "class LG:\n",
    "    # the boolean value that keeps the game going\n",
    "    keepGoing = True\n",
    "\n",
    "    # reset after a game is played\n",
    "    def reset():\n",
    "        keepGoing = True\n",
    "\n",
    "    # nv: naive\n",
    "    # LG: Liar Game\n",
    "    # Lcond: Lucy's win condition\n",
    "    def nv_LG_Lcond(n: int, q: int) -> bool:\n",
    "        # print(f\"The value of n is: {n}\")\n",
    "        # print(f\"The value of 2^q is: {pow(2,q)}\")\n",
    "        return n <= pow(2,q)\n",
    "\n",
    "    # sem: stands for start, end, mid reassignment function\n",
    "    def sem(start, end):\n",
    "        return start, end, int((start+end)/2)\n",
    "\n",
    "    # logic: the function that helps decide the logic after Lucy queries and Jasmine gives the answers\n",
    "    def logic(start, end, mid, isTrue):\n",
    "        if(isTrue == True):\n",
    "            if(start==mid):\n",
    "                LG.keepGoing = False\n",
    "                return start, end, mid\n",
    "            return LG.sem(start, mid)\n",
    "        if(isTrue == False):\n",
    "            return LG.sem(mid+1,end)\n",
    "\n",
    "    # nv: naive\n",
    "    # LG: Liar Game\n",
    "    # Lstrat: Lucy's winning strategy\n",
    "    def nv_LG_Lstrat(n: int, q: int, x: int=-1):\n",
    "\n",
    "        if(LG.nv_LG_Lcond(n,q) == False):\n",
    "            print(\"Lucy is unable to deduce a winning strategy\")\n",
    "            LG.reset()\n",
    "            return\n",
    "            \n",
    "        start, end, mid = LG.sem(1,n)\n",
    "        while LG.keepGoing:\n",
    "            if(x < 0):\n",
    "                isTrue = input(f\"Is x in the set from {start} to {mid} (y/n)\").lower().strip() == 'y'\n",
    "            else:\n",
    "                print(f\"Is x in the set from {start} to {mid} (y/n)\")\n",
    "                isTrue = (x >= start and x <= mid)\n",
    "                print(f\"Jasmine answers {isTrue}\")\n",
    "            start, end, mid = LG.logic(start, end, mid, isTrue)\n",
    "            n = n / 2\n",
    "            LG.keepGoing = LG.keepGoing and n > 1\n",
    "        print(f\"Answer is {mid}\")\n",
    "        LG.reset()\n",
    "        return\n",
    "\n",
    "\n",
    "\n",
    "    \n",
    "LG.nv_LG_Lstrat(4,2,3)\n",
    "\n",
    "# Readers can try to play against the algorithm by omitting the third parameter, \n",
    "# or making the parameter negative\n",
    "\n",
    "# LG.nv_LG_Lstrat(4,2,-1)\n",
    "# LG.nv_LG_Lstrat(4,2)"
   ]
  },
  {
   "attachments": {},
   "cell_type": "markdown",
   "metadata": {},
   "source": [
    "## The Chip-Liar Games"
   ]
  },
  {
   "attachments": {},
   "cell_type": "markdown",
   "metadata": {},
   "source": [
    "Let us try our hands at the $(x_0, x_1, ..., x_k )$-Chip-Liar Game.\n",
    "\n",
    "After we develop every concept for the $(x_0, x_1, ..., x_k )$-Chip-Liar Game, we can look back at the nqk-Chip-Liar Game in a new light!\n",
    "\n",
    "### $B(q,j) = 2^{-q} \\sum_{i=0}^j {q \\choose i}$\n",
    "\n",
    "Let us implement this idea that is integral in both our winning condition and winning strategy of Jasmine in the Chip-Liar Game."
   ]
  },
  {
   "cell_type": "code",
   "execution_count": 37,
   "metadata": {},
   "outputs": [
    {
     "name": "stdout",
     "output_type": "stream",
     "text": [
      "0.6875\n"
     ]
    }
   ],
   "source": [
    "import math\n",
    "\n",
    "def B(q: int, j: int) -> float:\n",
    "    sum = 0.0\n",
    "    for i in range(0,j+1):\n",
    "        sum += math.comb(q,i)\n",
    "    \n",
    "    return float(1.0*sum*pow(2,-q))\n",
    "\n",
    "# Write out some B(q,j) and use desmos to test out\n",
    "print(B(4,2))\n"
   ]
  },
  {
   "attachments": {},
   "cell_type": "markdown",
   "metadata": {},
   "source": [
    "### Winning Condition\n",
    "\n"
   ]
  },
  {
   "cell_type": "code",
   "execution_count": 13,
   "metadata": {},
   "outputs": [
    {
     "name": "stdout",
     "output_type": "stream",
     "text": [
      "True\n",
      "[2, 1]\n",
      "Current list: \n",
      "[0, 0, 3]\n",
      "Lucy queries: \n",
      "[0, 0, 3]\n",
      "Jasmine answers No!\n",
      "Updated list\n",
      "[0, 0, 3]\n",
      "Lucy queries: \n",
      "[0, 0, 1]\n",
      "Jasmine answers Yes!\n",
      "Updated list\n",
      "[0, 1, 2]\n",
      "Lucy queries: \n",
      "[0, 0, 2]\n",
      "Jasmine answers Yes!\n",
      "Updated list\n",
      "[0, 3, 0]\n",
      "Lucy queries: \n",
      "[0, 1, 0]\n",
      "Jasmine answers Yes!\n",
      "Updated list\n",
      "[1, 2, 0]\n"
     ]
    }
   ],
   "source": [
    "import math\n",
    "class CL:\n",
    "    def __init__(self):\n",
    "        pass\n",
    "\n",
    "    def B(q: int, j: int) -> float:\n",
    "        sum = 0.0\n",
    "        for i in range(0,j+1):\n",
    "            sum += math.comb(q,i)\n",
    "        return float(1.0*sum*pow(2,-q))\n",
    "\n",
    "    def get_input(q: int, inputList: None):\n",
    "        if (q<0):\n",
    "            # Prompt user to enter a list of integer of length k\n",
    "            inputList = [int(item) for item in input(\"Enter a list of integers: \").split()]\n",
    "\n",
    "            # Prompt user to enter a integer value q\n",
    "            q = int(input(\"Enter a value for q: \"))\n",
    "        return q, inputList\n",
    "\n",
    "\n",
    "    # mult: stands for (x0, x1,..., xk) game\n",
    "    # CL : Chip-Liar\n",
    "    # Jcond: Jasmine win condition\n",
    "    def mult_CL_Jcond(q = -1, inputList = None):\n",
    "\n",
    "        # If the user hasn't specified any input value\n",
    "        if(q < 0):\n",
    "            q, inputList = CL.get_input(q, inputList)\n",
    "        \"\"\"\n",
    "        print(\"Current list: \")\n",
    "        print(self.inputList)\n",
    "        print(f\"From the list's length, the value of k is {k}\")\n",
    "        print(f\"q is {self.q}\")\n",
    "        \"\"\"\n",
    "        sum = 0\n",
    "        for i, val in enumerate(inputList):\n",
    "            sum = sum + val*CL.B(q,i)\n",
    "        \n",
    "        return sum\n",
    "\n",
    "    \n",
    "    def get_new_list(isTrue, queryList, inputList):\n",
    "        # queryList stands for the set S\n",
    "        # ls stands for the set S'\n",
    "        ls = [inputList[i] - queryList[i] for i in range(len(inputList))]\n",
    "        if(isTrue):\n",
    "            queryList = queryList[1:] + [0]\n",
    "            return [ls[i] + queryList[i] for i in range(len(inputList))]\n",
    "        else:\n",
    "            ls = ls[1:] + [0]\n",
    "            return [queryList[i] + ls[i] for i in range(len(inputList))]\n",
    "\n",
    "\n",
    "\n",
    "\n",
    "    def mult_CL_Jstrat(q = -1, inputList = None):\n",
    "        q, inputList = CL.get_input(q, inputList)\n",
    "\n",
    "\n",
    "        tempList = list(inputList)\n",
    "        tempQ = q\n",
    "        print(\"Current list: \")\n",
    "        print(tempList)\n",
    "        while(tempQ > 0):\n",
    "            query = [int(item) for item in input(f\"Enter a list of integers of length {len(tempList)} to query as Lucy: \").split()]\n",
    "            print(\"Lucy queries: \")\n",
    "            print(query)\n",
    "            yesList = CL.get_new_list(True, query, tempList)\n",
    "            yesWeight = CL.mult_CL_Jcond(tempQ,yesList)\n",
    "\n",
    "            noList = CL.get_new_list(False, query, tempList)\n",
    "            noWeight = CL.mult_CL_Jcond(tempQ, noList)\n",
    "\n",
    "            if(yesWeight >= noWeight):\n",
    "                print(\"Jasmine answers Yes!\")\n",
    "                tempList = yesList\n",
    "            else:\n",
    "                print(\"Jasmine answers No!\")\n",
    "                tempList = noList\n",
    "            print(\"Updated list\")\n",
    "            print(tempList)\n",
    "            tempQ = tempQ - 1\n",
    "        pass\n",
    "\n",
    "q = 2\n",
    "ls = [1,2, 3]\n",
    "print(CL.mult_CL_Jcond(2, ls) > 1)\n",
    "\n",
    "print(CL.get_new_list(False,[1,1], [1,2]))\n",
    "\n",
    "CL.mult_CL_Jstrat(4,[0,0,3])"
   ]
  }
 ],
 "metadata": {
  "kernelspec": {
   "display_name": "Python 3",
   "language": "python",
   "name": "python3"
  },
  "language_info": {
   "codemirror_mode": {
    "name": "ipython",
    "version": 3
   },
   "file_extension": ".py",
   "mimetype": "text/x-python",
   "name": "python",
   "nbconvert_exporter": "python",
   "pygments_lexer": "ipython3",
   "version": "3.10.8"
  },
  "orig_nbformat": 4,
  "vscode": {
   "interpreter": {
    "hash": "aee8b7b246df8f9039afb4144a1f6fd8d2ca17a180786b69acc140d282b71a49"
   }
  }
 },
 "nbformat": 4,
 "nbformat_minor": 2
}
